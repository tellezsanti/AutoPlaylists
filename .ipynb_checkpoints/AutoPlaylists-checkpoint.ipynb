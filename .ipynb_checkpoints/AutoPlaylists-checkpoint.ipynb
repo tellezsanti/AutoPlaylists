{
 "cells": [
  {
   "cell_type": "markdown",
   "metadata": {},
   "source": [
    "# Auto-Playlists\n",
    "\n",
    "### Goal is to generate K playlists from list of songs using Spotify's python API"
   ]
  },
  {
   "cell_type": "code",
   "execution_count": 27,
   "metadata": {},
   "outputs": [],
   "source": [
    "import spotipy\n",
    "import numpy as np\n",
    "import pandas as pd\n",
    "\n",
    "from ipywidgets import widgets, Layout\n",
    "\n",
    "from spotipy.oauth2 import SpotifyClientCredentials\n",
    "\n",
    "# My Spotify credentials please don't steal\n",
    "from credentials import CLIENT_ID, CLIENT_SECRET\n",
    "SPOTIFY_USERNAME = \"tellezsanti\""
   ]
  },
  {
   "cell_type": "code",
   "execution_count": 28,
   "metadata": {},
   "outputs": [],
   "source": [
    "# API Login\n",
    "client_credentials_manager = SpotifyClientCredentials(client_id = CLIENT_ID, client_secret = CLIENT_SECRET)\n",
    "sp = spotipy.Spotify(client_credentials_manager = client_credentials_manager)"
   ]
  },
  {
   "cell_type": "code",
   "execution_count": 49,
   "metadata": {},
   "outputs": [
    {
     "data": {
      "application/vnd.jupyter.widget-view+json": {
       "model_id": "74c45eea145a4bb48efcbaf695d2b339",
       "version_major": 2,
       "version_minor": 0
      },
      "text/plain": [
       "Select(description='Playlist:', layout=Layout(height='180px', width='30%'), options=('test', \"kal's overplayed…"
      ]
     },
     "metadata": {},
     "output_type": "display_data"
    }
   ],
   "source": [
    "playlists = sp.user_playlists(SPOTIFY_USERNAME)['items']\n",
    "\n",
    "playlist_ids = {}\n",
    "\n",
    "for playlist in playlists:\n",
    "    playlist_ids[playlist['name']] = playlist['id']\n",
    "    \n",
    "plist_name = widgets.Select(\n",
    "    options = playlist_ids.keys(),\n",
    "    value = list(playlist_ids.keys())[0],\n",
    "    description = 'Playlist:',\n",
    "    disabled = False,\n",
    "    layout = Layout(width='30%', height='180px')\n",
    ")\n",
    "\n",
    "display(plist_name)"
   ]
  },
  {
   "cell_type": "markdown",
   "metadata": {},
   "source": [
    "#### Experiment\n",
    "* For the purposes of this example, I created a dummy playlist \"test\" with 30 songs from 3 distinct genres: Classical, Electronic and Rap\n",
    "* Goal is to see if clustering can correctly identify the different groups"
   ]
  },
  {
   "cell_type": "code",
   "execution_count": 50,
   "metadata": {},
   "outputs": [],
   "source": [
    "PLAYLIST_ID = playlist_ids[plist_name.value]\n",
    "\n",
    "# Getting tracks of the playlist\n",
    "tracks = sp.user_playlist_tracks(user = 'tellezsanti', playlist_id = PLAYLIST_ID)\n",
    "tracks_uri_list = [x['track']['uri'] for x in tracks['items']]\n",
    "\n",
    "# Getting features of tracks\n",
    "features = []\n",
    "for i in tracks_uri_list:\n",
    "    features = features + sp.audio_features(i)\n",
    "\n",
    "# Creating feature dataframe\n",
    "cols_to_drop = ['id', 'analysis_url', 'key', 'time_signature', 'track_href', 'type', 'uri', 'mode', 'duration_ms']\n",
    "features_df = pd.DataFrame(features).drop(cols_to_drop, axis=1)"
   ]
  },
  {
   "cell_type": "markdown",
   "metadata": {},
   "source": [
    "#### Provided features to be used in clustering:\n",
    "* **Danceability** - describes how suitable a track is for dancing\n",
    "* **Energy** - represents a perceptual measure of intensity and activity\n",
    "* **Loudness** - overall loudness of a track in decibels\n",
    "* **Speechiness** - detects the presence of spoken words in a track\n",
    "* **Acousticness** - confidence measure of whether the track is acoustic\n",
    "* **Instrumentalness** - predicts whether a track contains no vocals\n",
    "* **Liveness** - detects the presence of an audience in the recording\n",
    "* **Valence** - a measure describing the musical positiveness conveyed by a track\n",
    "* **Tempo** - overall estimated tempo of a track in beats per minute"
   ]
  },
  {
   "cell_type": "code",
   "execution_count": 51,
   "metadata": {},
   "outputs": [
    {
     "data": {
      "image/png": "[encoded data removed]",
      "text/plain": [
       "<Figure size 864x720 with 9 Axes>"
      ]
     },
     "metadata": {
      "needs_background": "light"
     },
     "output_type": "display_data"
    }
   ],
   "source": [
    "features_df.hist(xlabelsize=8, figsize=(12,10));"
   ]
  },
  {
   "cell_type": "code",
   "execution_count": 56,
   "metadata": {},
   "outputs": [],
   "source": [
    "from sklearn.cluster import KMeans\n",
    "\n",
    "# Scaling\n",
    "features_df = (features_df - features_df.mean()) / features_df.std()\n",
    "# for col in ['loudness', 'tempo']:\n",
    "#     features_df[col] = ((features_df[col] - features_df[col].min()) / (features_df[col].max() - features_df[col].min()))\n",
    "    \n",
    "# Training and Predicting\n",
    "kmeans_model = KMeans(n_clusters = 3, random_state=3).fit(features_df)\n",
    "preds = kmeans_model.predict(features_df)"
   ]
  },
  {
   "cell_type": "code",
   "execution_count": 57,
   "metadata": {},
   "outputs": [
    {
     "data": {
      "text/html": [
       "<div>\n",
       "<style scoped>\n",
       "    .dataframe tbody tr th:only-of-type {\n",
       "        vertical-align: middle;\n",
       "    }\n",
       "\n",
       "    .dataframe tbody tr th {\n",
       "        vertical-align: top;\n",
       "    }\n",
       "\n",
       "    .dataframe thead th {\n",
       "        text-align: right;\n",
       "    }\n",
       "</style>\n",
       "<table border=\"1\" class=\"dataframe\">\n",
       "  <thead>\n",
       "    <tr style=\"text-align: right;\">\n",
       "      <th></th>\n",
       "      <th>danceability</th>\n",
       "      <th>energy</th>\n",
       "      <th>loudness</th>\n",
       "      <th>speechiness</th>\n",
       "      <th>acousticness</th>\n",
       "      <th>instrumentalness</th>\n",
       "      <th>liveness</th>\n",
       "      <th>valence</th>\n",
       "      <th>tempo</th>\n",
       "    </tr>\n",
       "    <tr>\n",
       "      <th>cluster</th>\n",
       "      <th></th>\n",
       "      <th></th>\n",
       "      <th></th>\n",
       "      <th></th>\n",
       "      <th></th>\n",
       "      <th></th>\n",
       "      <th></th>\n",
       "      <th></th>\n",
       "      <th></th>\n",
       "    </tr>\n",
       "  </thead>\n",
       "  <tbody>\n",
       "    <tr>\n",
       "      <th>0</th>\n",
       "      <td>-1.307376</td>\n",
       "      <td>-1.233400</td>\n",
       "      <td>-1.242319</td>\n",
       "      <td>-0.674451</td>\n",
       "      <td>1.301504</td>\n",
       "      <td>1.192058</td>\n",
       "      <td>-0.567975</td>\n",
       "      <td>-1.096541</td>\n",
       "      <td>-0.440848</td>\n",
       "    </tr>\n",
       "    <tr>\n",
       "      <th>1</th>\n",
       "      <td>0.463446</td>\n",
       "      <td>0.970090</td>\n",
       "      <td>0.818532</td>\n",
       "      <td>-0.149259</td>\n",
       "      <td>-0.772589</td>\n",
       "      <td>-0.587821</td>\n",
       "      <td>0.263370</td>\n",
       "      <td>0.317389</td>\n",
       "      <td>0.857570</td>\n",
       "    </tr>\n",
       "    <tr>\n",
       "      <th>2</th>\n",
       "      <td>0.886206</td>\n",
       "      <td>0.184779</td>\n",
       "      <td>0.379926</td>\n",
       "      <td>0.931818</td>\n",
       "      <td>-0.501840</td>\n",
       "      <td>-0.606062</td>\n",
       "      <td>0.309187</td>\n",
       "      <td>0.830459</td>\n",
       "      <td>-0.558310</td>\n",
       "    </tr>\n",
       "  </tbody>\n",
       "</table>\n",
       "</div>"
      ],
      "text/plain": [
       "         danceability    energy  loudness  speechiness  acousticness  \\\n",
       "cluster                                                                \n",
       "0           -1.307376 -1.233400 -1.242319    -0.674451      1.301504   \n",
       "1            0.463446  0.970090  0.818532    -0.149259     -0.772589   \n",
       "2            0.886206  0.184779  0.379926     0.931818     -0.501840   \n",
       "\n",
       "         instrumentalness  liveness   valence     tempo  \n",
       "cluster                                                  \n",
       "0                1.192058 -0.567975 -1.096541 -0.440848  \n",
       "1               -0.587821  0.263370  0.317389  0.857570  \n",
       "2               -0.606062  0.309187  0.830459 -0.558310  "
      ]
     },
     "execution_count": 57,
     "metadata": {},
     "output_type": "execute_result"
    }
   ],
   "source": [
    "# Extracting song and artist names\n",
    "songs = [x['track']['name'] for x in tracks['items']]\n",
    "artists = [x['track']['artists'] for x in tracks['items']]\n",
    "\n",
    "# Concatenating multiple artist names\n",
    "artist_list = []\n",
    "for group in artists:\n",
    "    artist_group = []\n",
    "    for person in group:\n",
    "        artist_group.append(person['name'])\n",
    "    artist_list.append(', '.join(artist_group))\n",
    "\n",
    "# Adding predictions to dataframe\n",
    "features_df['cluster'] = preds\n",
    "\n",
    "# Grouping clusters to see the averages\n",
    "clusters = features_df.groupby('cluster').agg('mean')\n",
    "clusters"
   ]
  },
  {
   "cell_type": "code",
   "execution_count": 58,
   "metadata": {},
   "outputs": [
    {
     "name": "stdout",
     "output_type": "stream",
     "text": [
      "0\n",
      "['The Well-Tempered Clavier: Book 1, BWV 846-869: 1. Prelude in C Major, BWV 846', 'The Lark Ascending', 'Handel / Orch. Hale: Keyboard Suite in D Minor, HWV 437: III. Sarabande', 'Bagatelle No. 25 in A Minor, \"Für Elise\", WoO 59', 'Rhapsody On A Theme Of Paganini, Op.43: Variation 18. Andante cantabile', 'Cello Concerto in E Minor, Op.85 (1988 Digital Remaster): I. Adagio - Moderato', 'Rhapsody In Blue', 'Cello Suite No. 1 in G Major, BWV 1007: I. Prélude', 'Meditation: Méditation from Thaïs', 'Gnossienne No. 1']\n",
      "1\n",
      "['Pretty Please', 'Lasting Lover', 'The Recipe', 'Break This Habit (feat. Kiko Bun)', 'Fire (with Elderbrook)', 'Hey Baby (feat. Gia Koka)', 'Follow (with Jeremih)', 'Coffee (Give Me Something)', 'Watch Your Step', 'SAD - Imanbek xxx Remix', \"93 'Til Infinity\"]\n",
      "2\n",
      "[\"Passin' Me By\", 'Electric Relaxation', 'The Look of Love - Remix', 'The Truth', 'Fall in Love', 'I Juswanna Chill', 'Rebirth Of Slick (Cool Like Dat)', 'Grown Man Sport', 'Swan Lake']\n"
     ]
    }
   ],
   "source": [
    "# listing clusters\n",
    "\n",
    "song_clusters = np.concatenate((np.array(songs)[:, np.newaxis], preds[:, np.newaxis]), axis = 1)\n",
    "\n",
    "for c in np.unique(song_clusters[:, 1]):\n",
    "    print(c)\n",
    "    print(list(song_clusters[song_clusters[:, 1] == c, 0]))"
   ]
  },
  {
   "cell_type": "code",
   "execution_count": 47,
   "metadata": {},
   "outputs": [
    {
     "data": {
      "text/plain": [
       "['The Well-Tempered Clavier: Book 1, BWV 846-869: 1. Prelude in C Major, BWV 846',\n",
       " 'The Lark Ascending',\n",
       " 'Handel / Orch. Hale: Keyboard Suite in D Minor, HWV 437: III. Sarabande',\n",
       " 'Bagatelle No. 25 in A Minor, \"Für Elise\", WoO 59',\n",
       " 'Rhapsody On A Theme Of Paganini, Op.43: Variation 18. Andante cantabile',\n",
       " 'Cello Concerto in E Minor, Op.85 (1988 Digital Remaster): I. Adagio - Moderato',\n",
       " 'Rhapsody In Blue',\n",
       " 'Cello Suite No. 1 in G Major, BWV 1007: I. Prélude',\n",
       " 'Meditation: Méditation from Thaïs',\n",
       " 'Gnossienne No. 1',\n",
       " 'Pretty Please',\n",
       " 'Lasting Lover',\n",
       " 'The Recipe',\n",
       " 'Break This Habit (feat. Kiko Bun)',\n",
       " 'Fire (with Elderbrook)',\n",
       " 'Hey Baby (feat. Gia Koka)',\n",
       " 'Follow (with Jeremih)',\n",
       " 'Coffee (Give Me Something)',\n",
       " 'Watch Your Step',\n",
       " 'SAD - Imanbek xxx Remix',\n",
       " \"Passin' Me By\",\n",
       " 'Electric Relaxation',\n",
       " 'The Look of Love - Remix',\n",
       " \"93 'Til Infinity\",\n",
       " 'The Truth',\n",
       " 'Fall in Love',\n",
       " 'I Juswanna Chill',\n",
       " 'Rebirth Of Slick (Cool Like Dat)',\n",
       " 'Grown Man Sport',\n",
       " 'Swan Lake']"
      ]
     },
     "execution_count": 47,
     "metadata": {},
     "output_type": "execute_result"
    }
   ],
   "source": [
    "songs"
   ]
  },
  {
   "cell_type": "code",
   "execution_count": null,
   "metadata": {},
   "outputs": [],
   "source": []
  },
  {
   "cell_type": "code",
   "execution_count": null,
   "metadata": {},
   "outputs": [],
   "source": []
  }
 ],
 "metadata": {
  "kernelspec": {
   "display_name": "Python 3.7.6 64-bit ('base': conda)",
   "language": "python",
   "name": "python37664bitbasecondaf2acbd59380d447dbdba88a402ef10f8"
  },
  "language_info": {
   "codemirror_mode": {
    "name": "ipython",
    "version": 3
   },
   "file_extension": ".py",
   "mimetype": "text/x-python",
   "name": "python",
   "nbconvert_exporter": "python",
   "pygments_lexer": "ipython3",
   "version": "3.7.6"
  }
 },
 "nbformat": 4,
 "nbformat_minor": 4
}
